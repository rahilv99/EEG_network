{
  "nbformat": 4,
  "nbformat_minor": 0,
  "metadata": {
    "colab": {
      "provenance": [],
      "authorship_tag": "ABX9TyP/AqMoi8Y/SIXg/Ez2NAzl",
      "include_colab_link": true
    },
    "kernelspec": {
      "name": "python3",
      "display_name": "Python 3"
    },
    "language_info": {
      "name": "python"
    }
  },
  "cells": [
    {
      "cell_type": "markdown",
      "metadata": {
        "id": "view-in-github",
        "colab_type": "text"
      },
      "source": [
        "<a href=\"https://colab.research.google.com/github/rahilv99/EEG_network/blob/main/EEG_network.ipynb\" target=\"_parent\"><img src=\"https://colab.research.google.com/assets/colab-badge.svg\" alt=\"Open In Colab\"/></a>"
      ]
    },
    {
      "cell_type": "markdown",
      "source": [
        "Get data from google cloud bucket"
      ],
      "metadata": {
        "id": "4wpLvU51qkUb"
      }
    },
    {
      "cell_type": "code",
      "source": [
        "from google.colab import auth\n",
        "auth.authenticate_user()"
      ],
      "metadata": {
        "id": "rIdeGcUIpyqn"
      },
      "execution_count": null,
      "outputs": []
    },
    {
      "cell_type": "code",
      "source": [
        "!echo \"deb http://packages.cloud.google.com/apt gcsfuse-bionic main\" > /etc/apt/sources.list.d/gcsfuse.list\n",
        "!curl https://packages.cloud.google.com/apt/doc/apt-key.gpg | apt-key add -\n",
        "!apt -qq update\n",
        "!apt -qq install gcsfuse"
      ],
      "metadata": {
        "id": "dFXrGZ0np3yk"
      },
      "execution_count": null,
      "outputs": []
    },
    {
      "cell_type": "code",
      "source": [
        "!mkdir /content/EEG_directory"
      ],
      "metadata": {
        "id": "RCykDp7iqHSY"
      },
      "execution_count": null,
      "outputs": []
    },
    {
      "cell_type": "markdown",
      "source": [
        "Replace eegnet with google cloud project registered to your credentials"
      ],
      "metadata": {
        "id": "5-mOSVjS8qLH"
      }
    },
    {
      "cell_type": "code",
      "source": [
        "!gsutil -m -u eegnet cp -r gs://eegmmidb-1.0.0.physionet.org /content/EEG_directory"
      ],
      "metadata": {
        "id": "j1Z0HraeuQV4"
      },
      "execution_count": null,
      "outputs": []
    },
    {
      "cell_type": "markdown",
      "source": [
        "Install dependencies"
      ],
      "metadata": {
        "id": "qI2wWINbqrGs"
      }
    },
    {
      "cell_type": "code",
      "source": [
        "!pip install mne"
      ],
      "metadata": {
        "id": "gPF7jMYKqhIu"
      },
      "execution_count": null,
      "outputs": []
    },
    {
      "cell_type": "code",
      "execution_count": null,
      "metadata": {
        "id": "QUEcnMb7F1pC"
      },
      "outputs": [],
      "source": [
        "import numpy as np\n",
        "import pandas as pd\n",
        "\n",
        "from tensorflow.keras.models import Model\n",
        "from tensorflow.keras.layers import Dense, Activation, SeparableConv2D, DepthwiseConv2D, Conv2D, SpatialDropout2D\n",
        "from tensorflow.keras.layers import MaxPooling2D, AveragePooling2D\n",
        "from tensorflow.keras.layers import BatchNormalization\n",
        "from tensorflow.keras.layers import Input, Flatten\n",
        "from tensorflow.keras.constraints import max_norm\n",
        "from tensorflow.keras.callbacks import ModelCheckpoint\n",
        "\n",
        "from glob import glob\n",
        "import os\n",
        "from sklearn.discriminant_analysis import LinearDiscriminantAnalysis\n",
        "from sklearn.model_selection import ShuffleSplit, cross_val_score\n",
        "from sklearn.pipeline import Pipeline\n",
        "from sklearn.model_selection import train_test_split\n",
        "from sklearn.preprocessing import StandardScaler\n",
        "\n",
        "from mne import Epochs, pick_types\n",
        "from mne.channels import make_standard_montage\n",
        "from mne.datasets import eegbci\n",
        "from mne.decoding import CSP\n",
        "from mne.io import concatenate_raws, read_raw_edf\n",
        "\n",
        "import matplotlib.pyplot as plt"
      ]
    },
    {
      "cell_type": "markdown",
      "source": [
        "Preprocess EEG data\n",
        "- make left = 0 and right = 1"
      ],
      "metadata": {
        "id": "4-RFeB6cPlP6"
      }
    },
    {
      "cell_type": "code",
      "source": [
        "root_dir = '/content/EEG_directory/eegmmidb-1.0.0.physionet.org'\n",
        "all_files = {}\n",
        "for dirpath, dirnames, filenames in os.walk(root_dir):\n",
        "  to_add = glob(os.path.join(dirpath,\"*.edf\"))\n",
        "  key = dirpath.replace(\"/content/EEG_directory/eegmmidb-1.0.0.physionet.org/\",\"\")\n",
        "  for f in to_add:\n",
        "    if \"R04\" in f or \"R08\" in f or \"R12\" in f:\n",
        "      all_files.setdefault(key, []).extend([f])\n",
        "\n",
        "def extract_data(id):\n",
        "  f_names = all_files[id]\n",
        "\n",
        "  # piece raw\n",
        "  raw = concatenate_raws([read_raw_edf(f, preload = True) for f in f_names])\n",
        "  eegbci.standardize(raw)  # set channel names\n",
        "  montage = make_standard_montage(\"standard_1005\")\n",
        "  raw.set_montage(montage)\n",
        "  raw.annotations.rename(dict(T1=\"left\", T2=\"right\"))\n",
        "  raw.set_eeg_reference(projection=True)\n",
        "\n",
        "  # Apply band-pass filter\n",
        "  raw.filter(7.0, 30.0, fir_design=\"firwin\", skip_by_annotation=\"edge\") # finitie impulse response (window method) filter\n",
        "  # Apply selection\n",
        "  picks = pick_types(raw.info, meg=False, eeg=True, stim=False, eog=False, exclude=\"bads\")\n",
        "\n",
        "  epochs = Epochs(\n",
        "    raw,\n",
        "    event_id=[\"left\", \"right\"],\n",
        "    tmin=-1,\n",
        "    tmax=4,\n",
        "    proj=True,\n",
        "    picks=picks,\n",
        "    baseline=None,\n",
        "    preload=True)\n",
        "\n",
        "  x = epochs\n",
        "  y = epochs.events[:, -1] - 2\n",
        "  info = epochs.info\n",
        "\n",
        "  return x,y,info\n",
        "\n",
        "x,y,info = extract_data('S001')\n",
        "\n",
        "x_train = x.copy().crop(tmin=1.0,tmax=2)\n"
      ],
      "metadata": {
        "id": "xtZiO6PqPiXs"
      },
      "execution_count": null,
      "outputs": []
    },
    {
      "cell_type": "markdown",
      "source": [
        "Split data"
      ],
      "metadata": {
        "id": "lGr-xf5ngZQo"
      }
    },
    {
      "cell_type": "code",
      "source": [
        "# Define a monte-carlo cross-validation generator (reduce variance):\n",
        "epochs_data = x.get_data(copy=False)\n",
        "epochs_data_train = x_train.get_data(copy=False)\n",
        "cv = ShuffleSplit(10, test_size=0.2, random_state=42)\n",
        "\n",
        "model_x = epochs_data_train.reshape(epochs_data_train.shape[0], epochs_data_train.shape[1], epochs_data_train.shape[2], 1)\n",
        "\n",
        "scaled_data = model_x*100000\n",
        "\n",
        "# Train/Test Split\n",
        "X_train, X_test, Y_train, Y_test = train_test_split(scaled_data, y, test_size=0.2, random_state=42)\n",
        "\n",
        "# Train/Validation Split\n",
        "X_train, X_val, Y_train, Y_val = train_test_split(X_train, Y_train, test_size=0.2, random_state=42)\n",
        "\n",
        "\n",
        "\n",
        "print(\"Training Data: \", X_train)\n",
        "print(\"Epochs:\", X_train.shape[0])\n",
        "print(\"Channels:\", X_train.shape[1])\n",
        "print(\"Time Points:\", X_train.shape[2])\n",
        "print(\"Depth:\", X_train.shape[3])\n",
        "print(\"Left/Right Kinisthenic Movement:\")\n",
        "print(Y_train)"
      ],
      "metadata": {
        "id": "JaPrAas79lPb"
      },
      "execution_count": null,
      "outputs": []
    },
    {
      "cell_type": "markdown",
      "source": [
        "Display comon spatial patterns for selected data"
      ],
      "metadata": {
        "id": "4wukLxg-N49q"
      }
    },
    {
      "cell_type": "code",
      "source": [
        "scores = []\n",
        "\n",
        "labels = x.events[:, -1] - 2\n",
        "# Assemble a classifier\n",
        "lda = LinearDiscriminantAnalysis()\n",
        "csp = CSP(n_components=4, reg=None, log=True, norm_trace=False)\n",
        "\n",
        "# Use scikit-learn Pipeline with cross_val_score function\n",
        "clf = Pipeline([(\"CSP\", csp), (\"LDA\", lda)])\n",
        "scores = cross_val_score(clf, epochs_data_train, labels, cv=cv, n_jobs=None)\n",
        "\n",
        "# plot CSP patterns estimated on full data for visualization\n",
        "csp.fit_transform(epochs_data, y)\n",
        "\n",
        "csp.plot_patterns(x.info, ch_type=\"eeg\", units=\"Patterns (AU)\", size=1.5)"
      ],
      "metadata": {
        "id": "9QJ49sNONwDA"
      },
      "execution_count": null,
      "outputs": []
    },
    {
      "cell_type": "markdown",
      "source": [
        "Display example frequenecy domain of EEG signal"
      ],
      "metadata": {
        "id": "V-SKw4PyAOL7"
      }
    },
    {
      "cell_type": "code",
      "source": [
        "# Shape of X_train is epochs x channels x samples x 1\n",
        "print(X_train.shape)\n",
        "EEG_sig = X_train[1][10]\n",
        "size = len(EEG_sig)\n",
        "t = np.linspace(1,2,size)\n",
        "\n",
        "Fs = 160\n",
        "EEG_freq = np.fft.fft(EEG_sig)\n",
        "f = np.linspace(0,Fs,size)\n",
        "\n",
        "print(Y_train[1])\n",
        "\n",
        "plt.figure()\n",
        "plt.plot(t,EEG_sig)\n",
        "plt.xlabel(\"time (s)\")\n",
        "plt.ylabel(\"Microvolts (uV)\")\n",
        "plt.title(\"Epoch 1, Channel 11 (Motor Cortex)\")\n",
        "\n",
        "\n",
        "plt.figure()\n",
        "plt.plot(np.abs(f[0:round(size/2+1)]),np.abs(EEG_freq[0:round(size/2+1)]))\n",
        "plt.xlabel('frequency (Hz)')\n",
        "plt.ylabel('DFT of EEG signal')\n",
        "plt.title(\"Epoch 1, Channel 11 (Motor Cortex)\")\n",
        "plt.show()"
      ],
      "metadata": {
        "id": "uJCER-tHASwA"
      },
      "execution_count": null,
      "outputs": []
    },
    {
      "cell_type": "markdown",
      "source": [
        "Classifier for kinesthenic imagination (Model Construction)"
      ],
      "metadata": {
        "id": "2On3YtFQoY7H"
      }
    },
    {
      "cell_type": "code",
      "source": [
        "def EEGNet(Chans = 64, Samples = 128, kernelLength = 64, dropoutRate = 0.5, norm_rate = 0.25):\n",
        "    '''\n",
        "    chans = number of electrodes (EEG signal from each electrode)\n",
        "    samples = number of discrete points of data in the EEG signal\n",
        "    kernelLength = length of kernel, dictates how many electrodes considered in the filter\n",
        "    dropoutRate = portion of nodes to drop to prevent overfitting\n",
        "    '''\n",
        "    input1   = Input(shape = (Chans, Samples, 1))\n",
        "\n",
        "    block1       = Conv2D(4, (1, kernelLength), padding = 'same',\n",
        "                          input_shape = (Chans, Samples, 1))(input1)\n",
        "    block1       = BatchNormalization()(block1)\n",
        "    # depth multiplier = # of spatial filters to learn in 1 temporal\n",
        "    block1       = DepthwiseConv2D((Chans, 1), depth_multiplier = 2,\n",
        "                                   depthwise_constraint = max_norm(1.))(block1)\n",
        "    block1       = BatchNormalization()(block1)\n",
        "    block1       = Activation('elu')(block1)\n",
        "    block1       = AveragePooling2D((1, 4))(block1)\n",
        "    block1       = SpatialDropout2D(dropoutRate)(block1)\n",
        "\n",
        "    block2       = SeparableConv2D(4, (1, 16), padding = 'same')(block1)\n",
        "    block2       = BatchNormalization()(block2)\n",
        "    block2       = Activation('elu')(block2)\n",
        "    block2       = AveragePooling2D((1, 8))(block2)\n",
        "    block2       = SpatialDropout2D(dropoutRate)(block2)\n",
        "\n",
        "    flatten      = Flatten(name = 'flatten')(block2)\n",
        "\n",
        "    dense        = Dense(1, name = 'dense', activation = 'sigmoid',\n",
        "                         kernel_constraint = max_norm(norm_rate))(flatten)\n",
        "\n",
        "    return Model(inputs=input1, outputs=dense)\n"
      ],
      "metadata": {
        "id": "UnPq0flvoYLS"
      },
      "execution_count": null,
      "outputs": []
    },
    {
      "cell_type": "markdown",
      "source": [
        "Compile and run\n",
        "\n",
        "note: accurary shows MSE from output vs 0 (left) or 1 (right)"
      ],
      "metadata": {
        "id": "fk9ZEmxzPi8Y"
      }
    },
    {
      "cell_type": "code",
      "source": [
        "checkpointer = ModelCheckpoint(filepath='/tmp/checkpoint.h5', verbose=1, save_best_only=True)\n",
        "channels = X_train.shape[1]\n",
        "samples = X_train.shape[2]\n",
        "\n",
        "model = EEGNet(Chans = channels, Samples = samples)\n",
        "\n",
        "# compile the model and set the optimizers\n",
        "model.compile(loss='binary_crossentropy', optimizer='adam', metrics = ['accuracy'])\n",
        "\n",
        "fittedModel = model.fit(X_train, Y_train, epochs = 300, verbose = 2, validation_data=(X_val, Y_val), callbacks=[checkpointer])\n",
        "\n",
        "model.load_weights('/tmp/checkpoint.h5')"
      ],
      "metadata": {
        "id": "hf2Z6wejPSC7"
      },
      "execution_count": null,
      "outputs": []
    },
    {
      "cell_type": "markdown",
      "source": [
        "Evaluation"
      ],
      "metadata": {
        "id": "uqpIbd6ISOXw"
      }
    },
    {
      "cell_type": "code",
      "source": [
        "probs       = model.predict(X_test)\n",
        "preds       = np.round(probs)\n",
        "\n",
        "size = len(preds)\n",
        "count = 0\n",
        "for i in range(size):\n",
        "  pred = int(preds[i][0])\n",
        "  val = Y_test[i]\n",
        "  if  pred != val:\n",
        "    print(\"index\", i)\n",
        "    count = count+1\n",
        "\n",
        "acc = (1-count/size)*100\n",
        "print(\"Classification accuracy: %f \" % (acc))"
      ],
      "metadata": {
        "id": "MqLPSVgRSN1_"
      },
      "execution_count": null,
      "outputs": []
    },
    {
      "cell_type": "markdown",
      "source": [
        "Unmount data from google cloud when done"
      ],
      "metadata": {
        "id": "PMQ-gSYpqbS7"
      }
    },
    {
      "cell_type": "code",
      "source": [
        "!fusermount -u /content/EEG_directory"
      ],
      "metadata": {
        "id": "_LF-8IINqaiC",
        "colab": {
          "base_uri": "https://localhost:8080/"
        },
        "outputId": "d21b2bac-be8e-4c4e-90d7-2a62d774f717"
      },
      "execution_count": null,
      "outputs": [
        {
          "output_type": "stream",
          "name": "stdout",
          "text": [
            "fusermount: failed to unmount /content/EEG_directory: Invalid argument\n"
          ]
        }
      ]
    }
  ]
}